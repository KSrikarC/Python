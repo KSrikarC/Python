{
 "cells": [
  {
   "cell_type": "code",
   "execution_count": null,
   "metadata": {},
   "outputs": [],
   "source": [
    "l1=[1,2,3]\n",
    "l2=[9,8,7]\n",
    "print(l1)"
   ]
  },
  {
   "cell_type": "code",
   "execution_count": null,
   "metadata": {},
   "outputs": [],
   "source": [
    "#Possible list operations\n",
    "\n",
    "l1 = [1, 2, 3]\n",
    "l2 = [9, 8, 7]\n",
    "\n",
    "# Concatenation\n",
    "l3 = l1 + l2\n",
    "print(\"Concatenation:\", l3)\n",
    "\n",
    "# Length\n",
    "print(\"Length of l1:\", len(l1))\n",
    "\n",
    "# Accessing elements\n",
    "print(\"First element of l1:\", l1[0])\n",
    "print(\"Last element of l2:\", l2[-1])\n",
    "print(\"Slice of l1:\", l1[1:3])\n",
    "\n",
    "# Modification\n",
    "l1[0] = 5\n",
    "print(\"Modified l1:\", l1)\n",
    "\n",
    "l2.append(6)\n",
    "print(\"Appended l2:\", l2)\n",
    "\n",
    "l1.extend([4, 5, 6])\n",
    "print(\"Extended l1:\", l1)\n",
    "\n",
    "l2.insert(1, 10)\n",
    "print(\"Inserted l2:\", l2)\n",
    "\n",
    "# Removal\n",
    "l1.remove(2)\n",
    "print(\"After removing 2 from l1:\", l1)\n",
    "\n",
    "popped_value = l2.pop()\n",
    "print(\"Popped value from l2:\", popped_value)\n",
    "\n",
    "del l1[0]\n",
    "print(\"After deleting element at index 0 from l1:\", l1)\n",
    "\n",
    "# Sorting\n",
    "l1.sort()\n",
    "print(\"Sorted l1 (ascending):\", l1)\n",
    "\n",
    "l2.sort(reverse=True)\n",
    "print(\"Sorted l2 (descending):\", l2)\n",
    "\n",
    "# Searching\n",
    "print(\"Is 9 in l1?\", 9 in l1)\n",
    "print(\"Index of 7 in l2:\", l2.index(7))\n",
    "\n",
    "# Count\n",
    "print(\"Count of 3 in l1:\", l1.count(3))\n"
   ]
  },
  {
   "cell_type": "code",
   "execution_count": null,
   "metadata": {},
   "outputs": [],
   "source": [
    "t = (1,2,3,'al')\n",
    "print(type(t + ('be',)))\n",
    "print(t + ('be',))\n",
    "print(t[-2])\n",
    "t = t + ('extra data',)\n",
    "t"
   ]
  },
  {
   "cell_type": "code",
   "execution_count": null,
   "metadata": {},
   "outputs": [],
   "source": [
    "par = \"\"\"Visual Studio Code is a free source code editor that fully supports Python \n",
    "and useful features such as real-time collaboration.\"\"\"\n",
    "print('We are \\'\\\"Vikings\\\"\\' from north')\n",
    "print('We are \\'Vikings\\' from north')\n",
    "\n",
    "\n",
    "for _ in par:\n",
    "    print(_,end='')"
   ]
  },
  {
   "cell_type": "code",
   "execution_count": null,
   "metadata": {},
   "outputs": [],
   "source": [
    "import pyperclip as pp\n",
    "msg = ''\n",
    "for _ in input():\n",
    "    msg += _+'-'\n",
    "pp.copy(msg)\n",
    "print(msg)"
   ]
  },
  {
   "cell_type": "code",
   "execution_count": null,
   "metadata": {},
   "outputs": [],
   "source": [
    "sum({20,30,40})"
   ]
  },
  {
   "cell_type": "code",
   "execution_count": null,
   "metadata": {},
   "outputs": [],
   "source": [
    "import sys\n",
    "import time\n",
    "l  = ['zzzzz' for i in range(10 ** 8)]\n",
    "l.append('completed')\n",
    "l\n",
    "\n",
    "start_time = time.time()\n",
    "for s in l:\n",
    "    if s == 'completed':\n",
    "        print(\"found without interning\")\n",
    "        break\n",
    "end_time=time.time()\n",
    "print(end_time-start_time)"
   ]
  },
  {
   "cell_type": "code",
   "execution_count": null,
   "metadata": {},
   "outputs": [],
   "source": [
    "my_list_inetrned =[sys.intern('zzzzz') for i in range(10 ** 8)]\n",
    "my_list_inetrned.append(sys.intern(\"completed\"))\n",
    "needed_str=sys.intern(\"completed\")\n",
    "start_time =time.time()\n",
    "for s in my_list_inetrned:\n",
    "    if s in needed_str:\n",
    "        print(\"found\")\n",
    "        break\n",
    "end_time=time.time()\n",
    "print(end_time-start_time)"
   ]
  },
  {
   "cell_type": "code",
   "execution_count": null,
   "metadata": {},
   "outputs": [],
   "source": [
    "#Interned String vs Normal string\n",
    "\n",
    "x = sys.intern('Hi I am interned string')\n",
    "y = sys.intern('Hi I am interned string')\n",
    "\n",
    "x is y"
   ]
  },
  {
   "cell_type": "code",
   "execution_count": null,
   "metadata": {},
   "outputs": [],
   "source": [
    "a = 'Hi Im normal string'\n",
    "b = 'Hi Im normal string'\n",
    "a is b"
   ]
  },
  {
   "cell_type": "code",
   "execution_count": null,
   "metadata": {},
   "outputs": [],
   "source": [
    "test_interned_string = [sys.intern('string') for  i in range(10 ** 8)]"
   ]
  },
  {
   "cell_type": "code",
   "execution_count": null,
   "metadata": {},
   "outputs": [],
   "source": [
    "import sys\n",
    "import time"
   ]
  },
  {
   "cell_type": "code",
   "execution_count": null,
   "metadata": {},
   "outputs": [],
   "source": [
    "test_normal_string = ['string' for  i in range(10 ** 8)]"
   ]
  },
  {
   "cell_type": "code",
   "execution_count": null,
   "metadata": {},
   "outputs": [],
   "source": [
    "test_interned_string.append(sys.intern('last_string'))\n",
    "strt = time.time\n",
    "print(strt)"
   ]
  },
  {
   "cell_type": "code",
   "execution_count": null,
   "metadata": {},
   "outputs": [],
   "source": [
    "strt = time.time()\n",
    "\n",
    "for i in range(10**8):\n",
    "    pass\n",
    "end = time.time()\n",
    "print(abs(strt - end))"
   ]
  },
  {
   "cell_type": "code",
   "execution_count": null,
   "metadata": {},
   "outputs": [],
   "source": [
    "start = time.time()\n",
    "find = sys.intern('last_string')\n",
    "for _ in test_interned_string:\n",
    "    if _ == find:\n",
    "        print('Item found')\n",
    "        break\n",
    "end = time.time()\n",
    "\n",
    "print(end-start)"
   ]
  },
  {
   "cell_type": "code",
   "execution_count": null,
   "metadata": {},
   "outputs": [],
   "source": [
    "test_normal_string.append('Last')\n",
    "\n",
    "start = time.time()\n",
    "find = 'Last'\n",
    "for _ in test_normal_string:\n",
    "    if _ == find:\n",
    "        print('Item found')\n",
    "        break\n",
    "end = time.time()\n",
    "\n",
    "print(end-start)"
   ]
  },
  {
   "cell_type": "code",
   "execution_count": null,
   "metadata": {},
   "outputs": [],
   "source": [
    "# Create a dictionary with student names and their marks\n",
    "student_marks = {\n",
    "    \"John\": 85,\n",
    "    \"Emily\": 92,\n",
    "    \"Michael\": 78,\n",
    "    \"Sophia\": 95,\n",
    "    \"Daniel\": 88\n",
    "}\n",
    "\n",
    "def fetch_marks(name):\n",
    "    if name in student_marks.keys():\n",
    "        return student_marks[name]\n",
    "    else:\n",
    "        return 0\n",
    "\n",
    "fetch_marks('Michael')        "
   ]
  },
  {
   "cell_type": "code",
   "execution_count": null,
   "metadata": {},
   "outputs": [],
   "source": [
    "opt = 'y' \n",
    "while(opt == 'Y' or opt == 'y'):\n",
    "    x = input(\"Enter the person's name to get marks : \")\n",
    "    print(f'Marks of {x} are {fetch_marks(x)}')\n",
    "\n",
    "    opt = input('Do you want to get any others records (Y/N) : ')"
   ]
  },
  {
   "cell_type": "code",
   "execution_count": 15,
   "metadata": {},
   "outputs": [
    {
     "name": "stdout",
     "output_type": "stream",
     "text": [
      "\n",
      "===== TO-DO LIST MENU =====\n",
      "1. Add Task\n",
      "2. Remove Task\n",
      "3. Display Tasks\n",
      "4. Exit\n",
      "Task not found in the list.\n",
      "\n",
      "===== TO-DO LIST MENU =====\n",
      "1. Add Task\n",
      "2. Remove Task\n",
      "3. Display Tasks\n",
      "4. Exit\n",
      "Exiting the program...\n"
     ]
    }
   ],
   "source": [
    "class ToDoList:\n",
    "    def __init__(self):\n",
    "        self.tasks = []\n",
    "\n",
    "    def add_task(self, task):\n",
    "        self.tasks.append(task)\n",
    "        print(\"Task added successfully!\")\n",
    "\n",
    "    def remove_task(self, task):\n",
    "        if task in self.tasks:\n",
    "            self.tasks.remove(task)\n",
    "            print(\"Task removed successfully!\")\n",
    "        else:\n",
    "            print(\"Task not found in the list.\")\n",
    "\n",
    "    def display_tasks(self):\n",
    "        if self.tasks:\n",
    "            print(\"Tasks:\")\n",
    "            for task in self.tasks:\n",
    "                print(\"- \" + task)\n",
    "        else:\n",
    "            print(\"No tasks in the list.\")\n",
    "\n",
    "# Create a new to-do list\n",
    "my_list = ToDoList()\n",
    "\n",
    "while True:\n",
    "    print(\"\\n===== TO-DO LIST MENU =====\")\n",
    "    print(\"1. Add Task\")\n",
    "    print(\"2. Remove Task\")\n",
    "    print(\"3. Display Tasks\")\n",
    "    print(\"4. Exit\")\n",
    "\n",
    "    choice = input(\"Enter your choice (1-4): \")\n",
    "\n",
    "    if choice == '1':\n",
    "        task = input(\"Enter task: \")\n",
    "        my_list.add_task(task)\n",
    "    elif choice == '2':\n",
    "        task = input(\"Enter task to remove: \")\n",
    "        my_list.remove_task(task)\n",
    "    elif choice == '3':\n",
    "        my_list.display_tasks()\n",
    "    elif choice == '4':\n",
    "        print(\"Exiting the program...\")\n",
    "        break\n",
    "    else:\n",
    "        print(\"Invalid choice. Please try again.\")\n",
    "\n"
   ]
  },
  {
   "cell_type": "code",
   "execution_count": null,
   "metadata": {},
   "outputs": [],
   "source": []
  }
 ],
 "metadata": {
  "kernelspec": {
   "display_name": "Python 3",
   "language": "python",
   "name": "python3"
  },
  "language_info": {
   "codemirror_mode": {
    "name": "ipython",
    "version": 3
   },
   "file_extension": ".py",
   "mimetype": "text/x-python",
   "name": "python",
   "nbconvert_exporter": "python",
   "pygments_lexer": "ipython3",
   "version": "3.9.7"
  },
  "orig_nbformat": 4
 },
 "nbformat": 4,
 "nbformat_minor": 2
}
