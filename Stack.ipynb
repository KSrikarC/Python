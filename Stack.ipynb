{
 "cells": [
  {
   "cell_type": "code",
   "execution_count": 137,
   "metadata": {},
   "outputs": [],
   "source": [
    "\n",
    "class Stack:\n",
    "\n",
    "    def __init__(self):\n",
    "        self.data = []\n",
    "\n",
    "    def __str__(self):\n",
    "        if len(self.data) == 0 :\n",
    "            return 'Stack is empty'\n",
    "        res = ''\n",
    "        for _ in self.data:\n",
    "            res += str(_)+' '\n",
    "        res = res[:len(res)-1]\n",
    "        return f\"Elements of the Stack are: {res}\"\n",
    "\n",
    "    def push(self,value):\n",
    "        self.data.append(value)\n",
    "\n",
    "    def pop(self):\n",
    "        if len(self.data) > 0:\n",
    "            self.data.pop()\n",
    "        else:\n",
    "            print()\n",
    "\n",
    "    def top(self):\n",
    "        if len(self.data) == 0 :\n",
    "            return 'stack is empty'\n",
    "        else:\n",
    "            return self.data[-1]   \n",
    "\n",
    "    def isempty(self):\n",
    "        if len(self.data) == 0:\n",
    "            return True\n",
    "        else:\n",
    "            return False\n",
    "\n",
    "    def size(self):\n",
    "        return len(self.data)                             \n"
   ]
  },
  {
   "cell_type": "code",
   "execution_count": 122,
   "metadata": {},
   "outputs": [],
   "source": [
    "st = Stack()"
   ]
  },
  {
   "cell_type": "code",
   "execution_count": 123,
   "metadata": {},
   "outputs": [],
   "source": [
    "st.push('hi')\n",
    "st.push('hello')\n",
    "st.push('bye')\n"
   ]
  },
  {
   "cell_type": "code",
   "execution_count": 124,
   "metadata": {},
   "outputs": [
    {
     "name": "stdout",
     "output_type": "stream",
     "text": [
      "Elements of the Stack are: hi hello bye\n"
     ]
    },
    {
     "data": {
      "text/plain": [
       "'bye'"
      ]
     },
     "execution_count": 124,
     "metadata": {},
     "output_type": "execute_result"
    }
   ],
   "source": [
    "print(st)\n",
    "st.top()"
   ]
  },
  {
   "cell_type": "code",
   "execution_count": 125,
   "metadata": {},
   "outputs": [
    {
     "name": "stdout",
     "output_type": "stream",
     "text": [
      "Elements of the Stack are: hi hello\n"
     ]
    }
   ],
   "source": [
    "st.pop()\n",
    "print(st)"
   ]
  },
  {
   "cell_type": "code",
   "execution_count": 126,
   "metadata": {},
   "outputs": [
    {
     "name": "stdout",
     "output_type": "stream",
     "text": [
      "Elements of the Stack are: hi hello 10\n"
     ]
    }
   ],
   "source": [
    "st.push(10)\n",
    "print(st)"
   ]
  },
  {
   "cell_type": "code",
   "execution_count": 127,
   "metadata": {},
   "outputs": [
    {
     "data": {
      "text/plain": [
       "3"
      ]
     },
     "execution_count": 127,
     "metadata": {},
     "output_type": "execute_result"
    }
   ],
   "source": [
    "st.size()"
   ]
  },
  {
   "cell_type": "code",
   "execution_count": 128,
   "metadata": {},
   "outputs": [
    {
     "data": {
      "text/plain": [
       "False"
      ]
     },
     "execution_count": 128,
     "metadata": {},
     "output_type": "execute_result"
    }
   ],
   "source": [
    "st.isempty()"
   ]
  },
  {
   "attachments": {},
   "cell_type": "markdown",
   "metadata": {},
   "source": [
    "### Valid Parenthesis"
   ]
  },
  {
   "cell_type": "code",
   "execution_count": 170,
   "metadata": {},
   "outputs": [
    {
     "name": "stdout",
     "output_type": "stream",
     "text": [
      "True\n"
     ]
    }
   ],
   "source": [
    "def check_valid_parenthesis():\n",
    "    inp = '))(()){{{{{{[[[[]]]]}}}}}}}}}}}}}}}}}}}}}}}}}}}}}}}}]]}}}}}}'\n",
    "    stck = Stack()\n",
    "    for _ in inp:\n",
    "        if _ == '(' or _ == '[' or _ == '{':\n",
    "            stck.push(_)\n",
    "        elif _ == ')' or ']' or '}':\n",
    "            if not stck.isempty():\n",
    "                stck.pop()\n",
    "    return stck.size() == 0\n",
    "\n",
    "print(check_valid_parenthesis())"
   ]
  }
 ],
 "metadata": {
  "kernelspec": {
   "display_name": "Python 3",
   "language": "python",
   "name": "python3"
  },
  "language_info": {
   "codemirror_mode": {
    "name": "ipython",
    "version": 3
   },
   "file_extension": ".py",
   "mimetype": "text/x-python",
   "name": "python",
   "nbconvert_exporter": "python",
   "pygments_lexer": "ipython3",
   "version": "3.9.7"
  },
  "orig_nbformat": 4
 },
 "nbformat": 4,
 "nbformat_minor": 2
}
