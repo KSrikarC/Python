{
 "cells": [
  {
   "cell_type": "code",
   "execution_count": 2,
   "metadata": {},
   "outputs": [
    {
     "name": "stdout",
     "output_type": "stream",
     "text": [
      "Can't divide by zero\n"
     ]
    }
   ],
   "source": [
    "try:\n",
    "    print(10/int(input()))    \n",
    "\n",
    "except ZeroDivisionError:\n",
    "    print(\"Can't divide by zero\")  \n",
    "\n",
    "except ValueError:\n",
    "    print('Incorrect data entered')      \n",
    "\n",
    "except Exception:\n",
    "    print('Something is wrong')    \n",
    "\n"
   ]
  },
  {
   "cell_type": "code",
   "execution_count": 3,
   "metadata": {},
   "outputs": [
    {
     "name": "stdout",
     "output_type": "stream",
     "text": [
      "Entered Invalid index\n"
     ]
    }
   ],
   "source": [
    "try:\n",
    "    x=[0,1]\n",
    "    print(x[2])\n",
    "\n",
    "    if True:\n",
    "        print('Good morning')\n",
    "\n",
    "except SyntaxError as e:\n",
    "    print(str(e))     \n",
    "\n",
    "except IndexError:\n",
    "    print('Entered Invalid index') "
   ]
  },
  {
   "cell_type": "code",
   "execution_count": 5,
   "metadata": {},
   "outputs": [
    {
     "name": "stdout",
     "output_type": "stream",
     "text": [
      "File not found!\n",
      "File closed.\n"
     ]
    }
   ],
   "source": [
    "try:\n",
    "    file = open(\"my_file.txt\", \"r\")\n",
    "    result = 10 / 0\n",
    "except FileNotFoundError:\n",
    "    print(\"File not found!\")\n",
    "finally:\n",
    "    #file.close()\n",
    "    print(\"File closed.\")\n"
   ]
  },
  {
   "cell_type": "code",
   "execution_count": 6,
   "metadata": {},
   "outputs": [
    {
     "name": "stdout",
     "output_type": "stream",
     "text": [
      "The entered path doesn't exsist\n"
     ]
    }
   ],
   "source": [
    "class InvalidFile(Exception):\n",
    "    def __init__(self,message):\n",
    "        self.message = message\n",
    "\n",
    "def read_file(path):\n",
    "    try:\n",
    "        f = open(path)\n",
    "        return f\n",
    "    except FileNotFoundError:\n",
    "        raise InvalidFile('The entered path doesn\\'t exsist')       \n",
    "\n",
    "\n",
    "try:\n",
    "    my_file = read_file('abc.py')\n",
    "except InvalidFile as e:\n",
    "    print(e)    \n"
   ]
  },
  {
   "cell_type": "code",
   "execution_count": 7,
   "metadata": {},
   "outputs": [
    {
     "name": "stdout",
     "output_type": "stream",
     "text": [
      "Email is not valid. Pl try again\n"
     ]
    }
   ],
   "source": [
    "class InvalidEmail(Exception):    \n",
    "    def __str__(self):\n",
    "        return 'Email is not valid. Pl try again'\n",
    "\n",
    "def validate_Email(email):\n",
    "    try:\n",
    "        if '@' not in email or '.' not in email or len(email) < 5:\n",
    "            raise InvalidEmail\n",
    "        print('Your email is accepted successfully')    \n",
    "    except InvalidEmail as e:\n",
    "        print(e)\n",
    "\n",
    "validate_Email('.@')"
   ]
  },
  {
   "cell_type": "code",
   "execution_count": 10,
   "metadata": {},
   "outputs": [
    {
     "name": "stdout",
     "output_type": "stream",
     "text": [
      "Program exitted.. Check your local storage\n"
     ]
    }
   ],
   "source": [
    "#Creating Backup for a File\n",
    "try:\n",
    "    with open('inheritance.py','r') as Original, open('inheritance_backup.txt','x') as Backup:\n",
    "        Backup.write(Original.read())    \n",
    "    Original.close()\n",
    "    Backup.close()    \n",
    "\n",
    "except FileNotFoundError as e:\n",
    "    print(\"No file found\")\n",
    "\n",
    "finally:\n",
    "    print('Program exitted.. Check your local storage')"
   ]
  },
  {
   "cell_type": "code",
   "execution_count": 16,
   "metadata": {},
   "outputs": [
    {
     "name": "stdout",
     "output_type": "stream",
     "text": [
      "The laptop is DELL G3 Laptop 123 which is powered by intel core i5.\n",
      "It has 8GB of RAM & NVIDIA GeForce GTX 1050Ti dedicated GPU\n",
      "Data written to file successfully!\n",
      "Data written to file successfully!\n"
     ]
    }
   ],
   "source": [
    "import re\n",
    "\n",
    "class Laptop:\n",
    "    def __init__(self, company: str, model: str, cpu: str, ram: int, gpu: str) -> None:\n",
    "        self.__company = company\n",
    "        self.__model = model\n",
    "        self.__cpu = cpu\n",
    "        self.__ram = ram\n",
    "        self.__gpu = gpu\n",
    "    \n",
    "\n",
    "    def __str__(self):\n",
    "        return f'The laptop is {self.__company} {self.__model} which is powered by {self.__cpu}.\\nIt has {self.__ram}GB of RAM & {self.__gpu} dedicated GPU'        \n",
    "\n",
    "    def get(self,attr):\n",
    "        if attr == 'company': return self.__company\n",
    "        if attr == 'model': return self.__model\n",
    "        if attr == 'RAM': return f'{self.__ram} Giga Bytes'\n",
    "        if attr.upper() == 'CPU': return self.__cpu\n",
    "        if attr == 'GPU': return self.__gpu\n",
    "        raise AttributeError(\"Entered attrubute is unknown\")\n",
    "\n",
    "    def set(self,attr,value):\n",
    "        if type(attr) == list:\n",
    "            for i in range(len(attr)):\n",
    "                if attr[i] == 'company': \n",
    "                    self.__company = value[i]\n",
    "                elif attr[i] == 'model':\n",
    "                    self.__model= value[i]\n",
    "                elif attr[i].upper() == 'RAM': \n",
    "                    self.__ram = value[i]\n",
    "                elif attr[i].upper() == 'CPU': \n",
    "                    self.__cpu = value[i]\n",
    "                elif attr[i].upper() == 'GPU': \n",
    "                    self.__gpu = value[i]\n",
    "                else: raise AttributeError(\"Entered attribute is unknown\")        \n",
    "        else:\n",
    "            if attr == 'company':\n",
    "                self.__company = value\n",
    "            elif attr == 'model':\n",
    "                self.__model = value\n",
    "            elif attr.upper() == 'RAM':\n",
    "                self.__ram = value\n",
    "            elif attr.upper() == 'CPU':\n",
    "                self.__cpu = value\n",
    "            elif attr.upper() == 'GPU':\n",
    "                self.__gpu = value\n",
    "            else:\n",
    "                raise AttributeError(\"Entered attribute is unknown\")\n",
    "\n",
    "    def find_model_number(self):\n",
    "        pattern = r'\\b([A-Za-z]+\\s\\d+)\\b'\n",
    "        match = re.search(pattern, self.__model)\n",
    "        if match:\n",
    "            return match.group(1)\n",
    "        return \"Model number not found\"\n",
    "\n",
    "    def write_to_file(self,file_name):\n",
    "        try:\n",
    "            with open(file_name, 'w') as file:\n",
    "                file.write(str(self) + '\\n')\n",
    "            print(\"Data written to file successfully!\")\n",
    "        except IOError:\n",
    "            print(\"Error: Failed to write data to file.\")\n",
    "\n",
    "\n",
    "l1 = Laptop('DELL', 'G3 Laptop 123', 'intel core i5', 8, 'NVIDIA GeForce GTX 1050Ti')\n",
    "print(l1)\n",
    "\n",
    "try:\n",
    "    l1.write_to_file('laptops.txt') \n",
    "except Exception as e:\n",
    "    print(f\"Error: {str(e)}\")\n",
    "\n",
    "try:\n",
    "    l1.write_to_file('laptops.txt')\n",
    "except Exception as e:\n",
    "    print(f\"Error: {str(e)}\")\n"
   ]
  }
 ],
 "metadata": {
  "kernelspec": {
   "display_name": "Python 3",
   "language": "python",
   "name": "python3"
  },
  "language_info": {
   "codemirror_mode": {
    "name": "ipython",
    "version": 3
   },
   "file_extension": ".py",
   "mimetype": "text/x-python",
   "name": "python",
   "nbconvert_exporter": "python",
   "pygments_lexer": "ipython3",
   "version": "3.9.7"
  },
  "orig_nbformat": 4
 },
 "nbformat": 4,
 "nbformat_minor": 2
}
