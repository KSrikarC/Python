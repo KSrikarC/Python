{
 "cells": [
  {
   "cell_type": "code",
   "execution_count": null,
   "metadata": {},
   "outputs": [],
   "source": [
    "n=2048\n",
    "o=0\n",
    "i=0\n",
    "while(n>1):\n",
    "    o += 1\n",
    "    j=0\n",
    "    while j<n:\n",
    "        i+=1\n",
    "        x=j*n\n",
    "        j+=1\n",
    "    n = n/2\n",
    "o,i    "
   ]
  },
  {
   "cell_type": "code",
   "execution_count": null,
   "metadata": {},
   "outputs": [],
   "source": [
    "l = [1,2,3,4,5]\n",
    "sum(l[2:])"
   ]
  },
  {
   "cell_type": "code",
   "execution_count": null,
   "metadata": {},
   "outputs": [],
   "source": [
    "import time\n",
    "start = time.time()\n",
    "st = 'Dhoni'\n",
    "l=[]\n",
    "c='a'\n",
    "i=1\n",
    "while c <= 'z':\n",
    "    l.append([c,i])\n",
    "    c = chr(ord(c)+1)\n",
    "    i+=1\n",
    "if l[l.index(['i',9])][1] - int(29/10) == 7: print(7,True)\n",
    "end = time.time()\n",
    "end-start"
   ]
  },
  {
   "cell_type": "code",
   "execution_count": null,
   "metadata": {},
   "outputs": [],
   "source": [
    "d = [i for i in range(250)]"
   ]
  },
  {
   "cell_type": "code",
   "execution_count": null,
   "metadata": {},
   "outputs": [],
   "source": [
    "ranges = []\n",
    "i=0\n",
    "j=200\n",
    "\n",
    "while i<200 and i < j:\n",
    "    ranges.append([i,j])\n",
    "    i+=1\n",
    "    j-=1\n",
    "ranges    "
   ]
  },
  {
   "cell_type": "code",
   "execution_count": null,
   "metadata": {},
   "outputs": [],
   "source": [
    "def slice_sum(d,ranges):\n",
    "    start = time.time()\n",
    "    for _ in ranges:\n",
    "        print(sum(d[_[0]:_[1]+1]))\n",
    "    end = time.time()\n",
    "    print(f'Exited within {round(end-start)} seconds')"
   ]
  },
  {
   "cell_type": "code",
   "execution_count": null,
   "metadata": {},
   "outputs": [],
   "source": [
    "def running_sum(d,ranges):\n",
    "    start = time.time()\n",
    "    r_sum = d.copy()\n",
    "\n",
    "    for i in range(1,len(d)):\n",
    "        r_sum[i] = r_sum[i-1] + r_sum[i]\n",
    "\n",
    "    for _ in ranges:  \n",
    "        if _[0] == 0:\n",
    "            print(r_sum[_[1]])\n",
    "        else:\n",
    "            print(r_sum[_[1]] - r_sum[_[0] - 1])   \n",
    "    print(r_sum)        \n",
    "    end = time.time()\n",
    "    print(f'Exited within {round(end-start)} seconds')"
   ]
  },
  {
   "cell_type": "code",
   "execution_count": null,
   "metadata": {},
   "outputs": [],
   "source": [
    "slice_sum(d,ranges)"
   ]
  },
  {
   "cell_type": "code",
   "execution_count": null,
   "metadata": {},
   "outputs": [],
   "source": [
    "running_sum(d,ranges)"
   ]
  },
  {
   "cell_type": "code",
   "execution_count": null,
   "metadata": {},
   "outputs": [],
   "source": [
    "import math\n",
    "\n",
    "num = 10000\n",
    "factors = 0\n",
    "\n",
    "for i in range(2, math.ceil(math.sqrt(num)) + 1, 2):\n",
    "    if num % i == 0:\n",
    "        factors += 2 if num // i != i else 1\n",
    "\n",
    "factors += 1\n",
    "factors\n"
   ]
  },
  {
   "cell_type": "code",
   "execution_count": null,
   "metadata": {},
   "outputs": [],
   "source": [
    "def reverse_array(arr,start,end):\n",
    "    \n",
    "    while start < end:\n",
    "        arr[start], arr[end] = arr[end], arr[start]\n",
    "        start += 1\n",
    "        end -= 1\n",
    "\n",
    "\n",
    "   def rotate_array(arr, n):\n",
    "    \n",
    "    rotations = n % len(arr)\n",
    "    \n",
    "    #reversed the entire array\n",
    "    reverse_array(arr, 0, len(arr) - 1)\n",
    "\n",
    "    #reverse the first part upto rotation\n",
    "    reverse_array(arr, 0, rotations - 1)\n",
    "\n",
    "    # reverse remaining part\n",
    "    reverse_array(arr, rotations, len(arr) - 1)\n",
    "\n",
    "    return arr\n",
    "\n",
    "print(rotate_array(arr,4))\n",
    "\n",
    "\n",
    "def rotatearray(l,n):\n",
    "    a=l[n:]+l[:n]\n",
    "    return a\n",
    "\n",
    "rotatearray([1,2,3,4],3)\n",
    "\n",
    "\n",
    "arr = [1,2,3,4,5]\n",
    "n = 3\n",
    "n = n%len(arr)\n",
    "arr = arr[::-1]\n",
    "arr = arr[:n][::-1] + arr[n:][::-1]\n",
    "arr"
   ]
  },
  {
   "cell_type": "code",
   "execution_count": null,
   "metadata": {},
   "outputs": [],
   "source": [
    "arr = [1,2,3,4,5]\n",
    "arr"
   ]
  },
  {
   "cell_type": "code",
   "execution_count": null,
   "metadata": {},
   "outputs": [],
   "source": [
    "n = 88\n",
    "n = int(n % len(arr))\n",
    "\n",
    "\n",
    "arr[n:] + arr[:n]"
   ]
  },
  {
   "cell_type": "code",
   "execution_count": null,
   "metadata": {},
   "outputs": [],
   "source": [
    "# Find the second largest element in the list\n",
    "arr = [-1.-3,-5]"
   ]
  },
  {
   "cell_type": "code",
   "execution_count": null,
   "metadata": {},
   "outputs": [],
   "source": [
    "largest = \n",
    "sec_largest = \n",
    "\n",
    "for x in arr:\n",
    "    if x > largest:\n",
    "        sec_largest = largest\n",
    "        largest = x\n",
    "    elif x > sec_largest and x!=largest:\n",
    "        sec_largest = x\n",
    "print(sec_largest)\n",
    "\n"
   ]
  },
  {
   "cell_type": "code",
   "execution_count": null,
   "metadata": {},
   "outputs": [],
   "source": [
    "x = [1,2,3,4,5,6,7,8,9,10,11,12,13,14,15,16,17,18,19,20]\n",
    "ranges=[[0,5],[5,10],[10,15],[15,20]]\n",
    "def get_even_no(x,ranges):\n",
    "    for limits in ranges:\n",
    "        print(x[limits[0]:limits[1]])\n",
    "get_even_no(x,ranges)        "
   ]
  },
  {
   "cell_type": "code",
   "execution_count": null,
   "metadata": {},
   "outputs": [],
   "source": [
    "arr = [1,2,3,4,5]\n",
    "arr[0] = 1 if (arr[0]%2==0) else 0\n",
    "for i in range(1,len(arr)):\n",
    "    arr[i] = arr[i-1] + (1 if (arr[i]%2==0) else 0)\n",
    "print(arr)\n",
    "\n",
    "#range [1,3]\n",
    "print(arr[3]-arr[0])\n",
    "#range [2,4]\n",
    "print(arr[4]-arr[1])"
   ]
  },
  {
   "cell_type": "code",
   "execution_count": null,
   "metadata": {},
   "outputs": [],
   "source": [
    "arr"
   ]
  },
  {
   "cell_type": "code",
   "execution_count": null,
   "metadata": {},
   "outputs": [],
   "source": [
    "str = 'abcba'\n",
    "print( str == str[::-1])"
   ]
  },
  {
   "cell_type": "code",
   "execution_count": null,
   "metadata": {},
   "outputs": [],
   "source": [
    "def is_armstrong_number(num):\n",
    "    # Convert the number to a string to iterate over its digits\n",
    "    num_str = str(num)\n",
    "    armstrong_sum=0\n",
    "    # Calculate the power/exponent value\n",
    "    power = 3\n",
    "    \n",
    "    # Calculate the sum of the digits raised to the power value\n",
    "    for digit in num_str:\n",
    "        armstrong_sum += int(digit) ** power\n",
    "    \n",
    "    # Check if the sum is equal to the original number\n",
    "    return armstrong_sum == num\n"
   ]
  },
  {
   "cell_type": "code",
   "execution_count": null,
   "metadata": {},
   "outputs": [],
   "source": [
    "is_armstrong_number(153)"
   ]
  },
  {
   "cell_type": "code",
   "execution_count": null,
   "metadata": {},
   "outputs": [],
   "source": [
    "data = ['bcdef','abcdefg','bcde','bcdef']\n",
    "d = {}\n",
    "for word in set(data):\n",
    "    d[word] = data.count(word)\n",
    "d    "
   ]
  },
  {
   "cell_type": "code",
   "execution_count": null,
   "metadata": {},
   "outputs": [],
   "source": [
    "l={'abc':1}\n",
    "l['abc']+1"
   ]
  },
  {
   "attachments": {},
   "cell_type": "markdown",
   "metadata": {},
   "source": [
    "## 02/06/2023"
   ]
  },
  {
   "cell_type": "code",
   "execution_count": null,
   "metadata": {},
   "outputs": [],
   "source": [
    "arr = [5,4,3,2,0]\n",
    "n=len(arr)\n",
    "for i in range(len(arr)):\n",
    "    for j in range(0,n-i-1):\n",
    "        if arr[j] > arr[j+1]:\n",
    "            arr[j], arr[j+1] = arr[j+1] , arr[j]\n",
    "print(arr)            \n",
    "        "
   ]
  },
  {
   "cell_type": "code",
   "execution_count": 3,
   "metadata": {},
   "outputs": [
    {
     "data": {
      "text/plain": [
       "[1, 2, 3, 4, 5]"
      ]
     },
     "execution_count": 3,
     "metadata": {},
     "output_type": "execute_result"
    }
   ],
   "source": [
    "import snoop\n",
    "#@snoop\n",
    "arr = [5,3,4,2,1]\n",
    "sorted = False\n",
    "\n",
    "while not sorted:\n",
    "    sorted = True\n",
    "    for i in range(1,len(arr)):\n",
    "        if arr[i-1] > arr[i]:\n",
    "            arr[i-1], arr[i] = arr[i], arr[i-1]\n",
    "            sorted = False\n",
    "arr            "
   ]
  },
  {
   "cell_type": "code",
   "execution_count": 6,
   "metadata": {},
   "outputs": [
    {
     "name": "stdout",
     "output_type": "stream",
     "text": [
      "l1\n",
      "Hi Namaste , dfghjk\n",
      "l2\n",
      "Hi Namaste , nmjnm\n"
     ]
    }
   ],
   "source": [
    "def main():\n",
    "    print(f'Hi Namaste , {input()}')\n",
    "\n",
    "if __name__ == '__main__':\n",
    "    print('l1')\n",
    "    main()   \n",
    "\n",
    "\n",
    "if __name__ == '__main__':\n",
    "    print('l2')\n",
    "    main()        "
   ]
  },
  {
   "cell_type": "code",
   "execution_count": 71,
   "metadata": {},
   "outputs": [
    {
     "name": "stdout",
     "output_type": "stream",
     "text": [
      "The laptop is DELL G3 which is powered by intel core i5.\n",
      "It has 8GB of RAM & NVIDIA GeForce GTX 1050Ti dedicated GPU\n"
     ]
    }
   ],
   "source": [
    "class Laptop():\n",
    "\n",
    "    def __init__(self,company:str ,model:str,cpu:str,ram:int,gpu:str) -> None:\n",
    "        self.__company = company\n",
    "        self.__model = model\n",
    "        self.__cpu = cpu\n",
    "        self.__ram = ram\n",
    "        self.__gpu = gpu\n",
    "\n",
    "    def __str__(self):\n",
    "        return f'The laptop is {self.__company} {self.__model} which is powered by {self.__cpu}.\\nIt has {self.__ram}GB of RAM & {self.__gpu} dedicated GPU'        \n",
    "    \n",
    "    def get(self,attr):\n",
    "        if attr == 'company': return self.__company\n",
    "        if attr == 'model': return self.__model\n",
    "        if attr == 'RAM': return f'{self.__ram} Giga Bytes'\n",
    "        if attr.upper() == 'CPU': return self.__cpu\n",
    "        if attr == 'GPU': return self.__gpu\n",
    "        raise AttributeError(\"Entered attrubute is unknown\")\n",
    "\n",
    "    def set(self,attr,value):\n",
    "        if type(attr) == list:\n",
    "            for i in range(len(attr)):\n",
    "                if attr[i] == 'company': \n",
    "                    self.__company = value[i]\n",
    "                elif attr[i] == 'model':\n",
    "                    self.__model= value[i]\n",
    "                elif attr[i].upper() == 'RAM': \n",
    "                    self.__ram = value[i]\n",
    "                elif attr[i].upper() == 'CPU': \n",
    "                    self.__cpu = value[i]\n",
    "                elif attr[i].upper() == 'GPU': \n",
    "                    self.__gpu = value[i]\n",
    "                else: raise AttributeError(\"Entered attribute is unknown\")        \n",
    "        else:\n",
    "            if attr == 'company':\n",
    "                self.__company = value\n",
    "            elif attr == 'model':\n",
    "                self.__model = value\n",
    "            elif attr.upper() == 'RAM':\n",
    "                self.__ram = value\n",
    "            elif attr.upper() == 'CPU':\n",
    "                self.__cpu = value\n",
    "            elif attr.upper() == 'GPU':\n",
    "                self.__gpu = value\n",
    "            else:\n",
    "                raise AttributeError(\"Entered attribute is unknown\")\n",
    "\n",
    "l1 = Laptop('DELL','G3','intel core i5',8,'NVIDIA GeForce GTX 1050Ti') \n",
    "print(l1)       \n"
   ]
  },
  {
   "cell_type": "code",
   "execution_count": 50,
   "metadata": {},
   "outputs": [
    {
     "name": "stdout",
     "output_type": "stream",
     "text": [
      "DELL G3 8 Giga Bytes intel core i5 NVIDIA GeForce GTX 1050Ti\n"
     ]
    }
   ],
   "source": [
    "print(l1.get('company'),\n",
    "        l1.get('model'),\n",
    "        l1.get('RAM'),\n",
    "        l1.get('CPU'),\n",
    "        l1.get('GPU'))"
   ]
  },
  {
   "cell_type": "code",
   "execution_count": 65,
   "metadata": {},
   "outputs": [
    {
     "name": "stdout",
     "output_type": "stream",
     "text": [
      "The laptop is DELL G3 which is powered by AMD Ryzen 7.\n",
      "It has 8GB of RAM & NVIDIA GeForce GTX 1050Ti dedicated GPU\n"
     ]
    }
   ],
   "source": [
    "l1.set(attr='cpu',value='AMD Ryzen 7')\n",
    "print(l1)"
   ]
  },
  {
   "cell_type": "code",
   "execution_count": 68,
   "metadata": {},
   "outputs": [
    {
     "name": "stdout",
     "output_type": "stream",
     "text": [
      "The laptop is DELL G3 which is powered by intel core i5.\n",
      "It has 16GB of RAM & Nvidia RTX 4050 dedicated GPU\n"
     ]
    }
   ],
   "source": [
    "l1.set(attr=['gpu','ram'],value=['Nvidia RTX 4050',16])\n",
    "print(l1)"
   ]
  },
  {
   "cell_type": "code",
   "execution_count": 69,
   "metadata": {},
   "outputs": [
    {
     "name": "stdout",
     "output_type": "stream",
     "text": [
      "The laptop is MSI Katana which is powered by intel core i5.\n",
      "It has 16GB of RAM & Nvidia RTX 4050 dedicated GPU\n"
     ]
    }
   ],
   "source": [
    "l1.set(attr=['company','model'],value=['MSI','Katana'])\n",
    "print(l1)"
   ]
  },
  {
   "cell_type": "code",
   "execution_count": 73,
   "metadata": {},
   "outputs": [
    {
     "name": "stdout",
     "output_type": "stream",
     "text": [
      "The laptop is DELL G3 which is powered by intel core i5.\n",
      "It has 64GB of RAM & NVIDIA GeForce GTX 1050Ti dedicated GPU\n"
     ]
    }
   ],
   "source": [
    "l1.set(attr='ram',value=64)\n",
    "print(l1)"
   ]
  },
  {
   "cell_type": "code",
   "execution_count": 81,
   "metadata": {},
   "outputs": [
    {
     "data": {
      "text/plain": [
       "['c:\\\\Users\\\\DELL\\\\AppData\\\\Local\\\\Programs\\\\Python\\\\Python39\\\\lib\\\\site-packages\\\\ipykernel_launcher.py',\n",
       " '--ip=127.0.0.1',\n",
       " '--stdin=9003',\n",
       " '--control=9001',\n",
       " '--hb=9000',\n",
       " '--Session.signature_scheme=\"hmac-sha256\"',\n",
       " '--Session.key=b\"56aae720-90d9-486f-8917-7f03c32a9c5b\"',\n",
       " '--shell=9002',\n",
       " '--transport=\"tcp\"',\n",
       " '--iopub=9004',\n",
       " '--f=c:\\\\Users\\\\DELL\\\\AppData\\\\Roaming\\\\jupyter\\\\runtime\\\\kernel-v2-24944VPjt1anI7vkl.json']"
      ]
     },
     "execution_count": 81,
     "metadata": {},
     "output_type": "execute_result"
    }
   ],
   "source": [
    "import sys\n",
    "a1 = sys.argv[0]\n",
    "sys.argv"
   ]
  },
  {
   "cell_type": "code",
   "execution_count": 8,
   "metadata": {},
   "outputs": [
    {
     "data": {
      "text/plain": [
       "24"
      ]
     },
     "execution_count": 8,
     "metadata": {},
     "output_type": "execute_result"
    }
   ],
   "source": [
    "from functools import reduce\n",
    "\n",
    "n = int(input())\n",
    "\n",
    "reduce(lambda a,b : a*b,range(1,n+1))"
   ]
  },
  {
   "cell_type": "code",
   "execution_count": 8,
   "metadata": {},
   "outputs": [
    {
     "data": {
      "text/plain": [
       "6"
      ]
     },
     "execution_count": 8,
     "metadata": {},
     "output_type": "execute_result"
    }
   ],
   "source": [
    "class Static():\n",
    "    counter = 0\n",
    "    \n",
    "    def __init__(self):\n",
    "        Static.counter += 1\n",
    "\n",
    "    @staticmethod\n",
    "    def get_obj_count():\n",
    "        return Static.counter\n",
    "\n",
    "a = Static()\n",
    "a = Static()\n",
    "a = Static()\n",
    "a = Static()\n",
    "a = Static()\n",
    "a = Static()\n",
    "a.get_obj_count()        "
   ]
  },
  {
   "attachments": {},
   "cell_type": "markdown",
   "metadata": {},
   "source": [
    "## Polymorphism"
   ]
  },
  {
   "cell_type": "code",
   "execution_count": 20,
   "metadata": {},
   "outputs": [
    {
     "name": "stdout",
     "output_type": "stream",
     "text": [
      "C is called\n",
      "C is called\n"
     ]
    }
   ],
   "source": [
    "class A():\n",
    "    __name = 'Hi'\n",
    "    def call(self):\n",
    "        print('A is called')\n",
    "\n",
    "class B(A):\n",
    "    def call(self):\n",
    "        print('B is called')        \n",
    "\n",
    "class C(A):\n",
    "    def call(self,data):\n",
    "        print(data)\n",
    "    def call(self):\n",
    "        print('C is called')\n",
    "\n",
    "c = C()\n",
    "c.call()\n",
    "c.call('abc')"
   ]
  },
  {
   "attachments": {},
   "cell_type": "markdown",
   "metadata": {},
   "source": [
    "## Method Overloading"
   ]
  },
  {
   "cell_type": "code",
   "execution_count": 21,
   "metadata": {},
   "outputs": [
    {
     "name": "stdout",
     "output_type": "stream",
     "text": [
      "Collecting multipledispatch\n",
      "  Downloading multipledispatch-0.6.0-py3-none-any.whl (11 kB)\n",
      "Requirement already satisfied: six in c:\\users\\dell\\appdata\\local\\programs\\python\\python39\\lib\\site-packages (from multipledispatch) (1.16.0)\n",
      "Installing collected packages: multipledispatch\n",
      "Successfully installed multipledispatch-0.6.0\n",
      "Note: you may need to restart the kernel to use updated packages.\n"
     ]
    }
   ],
   "source": [
    "pip install multipledispatch"
   ]
  },
  {
   "cell_type": "code",
   "execution_count": 29,
   "metadata": {},
   "outputs": [
    {
     "name": "stdout",
     "output_type": "stream",
     "text": [
      "20\n",
      "200\n"
     ]
    }
   ],
   "source": [
    "class Math_ops:\n",
    "    def add(self,a,b=0,c=0,d=0,e=0):\n",
    "        return a+b+c+d+e\n",
    "\n",
    "    from multipledispatch import dispatch\n",
    "    @dispatch (int,int)\n",
    "    def mul(self,a,b):\n",
    "        return a*b\n",
    "\n",
    "    @dispatch (int,int,int)\n",
    "    def mul(self,a,b,c):\n",
    "        return a*b*c    \n",
    "\n",
    "    @dispatch (int,int,int,int)\n",
    "    def mul(self,a,b,c,d):\n",
    "        return a*b*c*d\n",
    "    \n",
    "\n",
    "ob = Math_ops()\n",
    "print(ob.mul(10,2))\n",
    "print(ob.mul(10,10,2))\n"
   ]
  },
  {
   "cell_type": "code",
   "execution_count": 34,
   "metadata": {},
   "outputs": [
    {
     "data": {
      "text/plain": [
       "'Hi Hello Good Morning How are you ?'"
      ]
     },
     "execution_count": 34,
     "metadata": {},
     "output_type": "execute_result"
    }
   ],
   "source": [
    "class Math_ops:\n",
    "    @staticmethod\n",
    "    def concat_all(*data):\n",
    "        res = ''\n",
    "        for _ in data:\n",
    "            res += _+' '\n",
    "        return res[:-1]\n",
    "  \n",
    "Math_ops().concat_all('Hi','Hello','Good','Morning')\n",
    "Math_ops().concat_all('Hi','Hello','Good','Morning','How','are','you ?')\n"
   ]
  },
  {
   "cell_type": "code",
   "execution_count": 39,
   "metadata": {},
   "outputs": [
    {
     "name": "stdout",
     "output_type": "stream",
     "text": [
      "abc woekg\n",
      "xyz 111\n"
     ]
    }
   ],
   "source": [
    "from dataclasses import dataclass\n",
    "@dataclass\n",
    "class user:    \n",
    "    username : str\n",
    "    pin : str\n",
    "u1 = user('abc','woekg')\n",
    "u2 = user('xyz',111)\n",
    "\n",
    "print(u1.username,u1.pin)\n",
    "print(u2.username,u2.pin)"
   ]
  },
  {
   "attachments": {},
   "cell_type": "markdown",
   "metadata": {},
   "source": [
    "## Error handling"
   ]
  },
  {
   "cell_type": "code",
   "execution_count": 60,
   "metadata": {},
   "outputs": [
    {
     "name": "stdout",
     "output_type": "stream",
     "text": [
      "Incorrect data entered\n"
     ]
    }
   ],
   "source": [
    "try:\n",
    "    print(10/int(input()))    \n",
    "\n",
    "except ZeroDivisionError:\n",
    "    print(\"Can't divide by zero\")  \n",
    "\n",
    "except ValueError:\n",
    "    print('Incorrect data entered')      \n",
    "\n",
    "except Exception:\n",
    "    print('Something is wrong')    \n",
    "\n"
   ]
  },
  {
   "cell_type": "code",
   "execution_count": 85,
   "metadata": {},
   "outputs": [
    {
     "ename": "IndentationError",
     "evalue": "expected an indented block (2795141155.py, line 6)",
     "output_type": "error",
     "traceback": [
      "\u001b[1;36m  Cell \u001b[1;32mIn [85], line 6\u001b[1;36m\u001b[0m\n\u001b[1;33m    print('Good morning')\u001b[0m\n\u001b[1;37m    ^\u001b[0m\n\u001b[1;31mIndentationError\u001b[0m\u001b[1;31m:\u001b[0m expected an indented block\n"
     ]
    }
   ],
   "source": [
    "try:\n",
    "    x=[0,1]\n",
    "    print(x[2])\n",
    "\n",
    "    if True:\n",
    "    print('Good morning')\n",
    "\n",
    "except SyntaxError as e:\n",
    "    print(str(e))     \n",
    "\n",
    "except IndexError:\n",
    "    print('Entered Invalid index') "
   ]
  },
  {
   "cell_type": "code",
   "execution_count": 104,
   "metadata": {},
   "outputs": [
    {
     "name": "stdout",
     "output_type": "stream",
     "text": [
      "The entered path doesn't exsist\n"
     ]
    }
   ],
   "source": [
    "class InvalidFile(Exception):\n",
    "    def __init__(self,message):\n",
    "        self.message = message\n",
    "\n",
    "def read_file(path):\n",
    "    try:\n",
    "        f = open(path)\n",
    "        return f\n",
    "    except FileNotFoundError:\n",
    "        raise InvalidFile('The entered path doesn\\'t exsist')       \n",
    "\n",
    "\n",
    "try:\n",
    "    my_file = read_file('abc.py')\n",
    "except InvalidFile as e:\n",
    "    print(e)    \n"
   ]
  },
  {
   "cell_type": "code",
   "execution_count": 125,
   "metadata": {},
   "outputs": [
    {
     "name": "stdout",
     "output_type": "stream",
     "text": [
      "Email is not valid. Pl try again\n"
     ]
    }
   ],
   "source": [
    "class InvalidEmail(Exception):    \n",
    "    def __str__(self):\n",
    "        return 'Email is not valid. Pl try again'\n",
    "\n",
    "def validate_Email(email):\n",
    "    try:\n",
    "        if '@' not in email or '.' not in email or len(email) < 5:\n",
    "            raise InvalidEmail\n",
    "        print('Your email is accepted successfully')    \n",
    "    except InvalidEmail as e:\n",
    "        print(e)\n",
    "\n",
    "validate_Email('.@')"
   ]
  },
  {
   "attachments": {},
   "cell_type": "markdown",
   "metadata": {},
   "source": [
    "## File Operations"
   ]
  },
  {
   "cell_type": "code",
   "execution_count": 84,
   "metadata": {},
   "outputs": [
    {
     "name": "stdout",
     "output_type": "stream",
     "text": [
      "The entered path doesn't exsist\n"
     ]
    }
   ],
   "source": [
    "try:\n",
    "    f = open('')\n",
    "except FileNotFoundError:\n",
    "    print('The entered path doesn\\'t exsist')    "
   ]
  },
  {
   "cell_type": "code",
   "execution_count": 129,
   "metadata": {},
   "outputs": [
    {
     "name": "stdout",
     "output_type": "stream",
     "text": [
      "'''\n",
      "import sys\n",
      "\n",
      "a = sys.argv\n",
      "a.append(500)\n",
      "\n",
      "x = sys.stdin.readline()\n",
      "\n",
      "print(x)'''\n",
      "\n",
      "\n",
      "\n"
     ]
    }
   ],
   "source": [
    "f = open('test.py')\n",
    "with open('test.py','r') as file:\n",
    "    print(file.read())"
   ]
  },
  {
   "cell_type": "code",
   "execution_count": 134,
   "metadata": {},
   "outputs": [],
   "source": [
    "with open('test.txt','w') as file:\n",
    "    file.write('HI\\n')\n",
    "    file.write('Time for lunch break\\n')\n",
    "#    file.write('Meet you again at 2:30PM\\n')\n",
    "file.close()"
   ]
  },
  {
   "cell_type": "code",
   "execution_count": 2,
   "metadata": {},
   "outputs": [],
   "source": [
    "#Creating Backup\n",
    "try:\n",
    "    with open('inheritance.py','r') as Original, open('inheritance_backup1.txt','x') as Backup:\n",
    "        Backup.write(Original.read())    \n",
    "    Original.close()\n",
    "    Backup.close()    \n",
    "\n",
    "except FileNotFoundError as e:\n",
    "    print(\"No file found\")\n",
    "\n"
   ]
  }
 ],
 "metadata": {
  "kernelspec": {
   "display_name": "Python 3",
   "language": "python",
   "name": "python3"
  },
  "language_info": {
   "codemirror_mode": {
    "name": "ipython",
    "version": 3
   },
   "file_extension": ".py",
   "mimetype": "text/x-python",
   "name": "python",
   "nbconvert_exporter": "python",
   "pygments_lexer": "ipython3",
   "version": "3.9.7"
  },
  "orig_nbformat": 4
 },
 "nbformat": 4,
 "nbformat_minor": 2
}
