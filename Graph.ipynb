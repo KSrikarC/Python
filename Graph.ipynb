{
 "cells": [
  {
   "cell_type": "code",
   "execution_count": 47,
   "metadata": {},
   "outputs": [],
   "source": [
    "class Graph:\n",
    "\n",
    "    def __init__(self) -> None:\n",
    "        self.graph = {}\n",
    "\n",
    "    def add_vertex(self,vertex):\n",
    "        if vertex not in self.graph:\n",
    "            self.graph[vertex] = []\n",
    "\n",
    "    def add_edge(self,vertex1,vertex2):\n",
    "        if vertex1 not in self.graph:\n",
    "            self.add_vertex(vertex1)\n",
    "        if vertex2 not in self.graph:\n",
    "            self.add_vertex(vertex2)\n",
    "\n",
    "        self.graph[vertex1].append(vertex2)\n",
    "        self.graph[vertex2].append(vertex1)\n",
    "\n",
    "    def get_vertices(self):\n",
    "        return self.graph.keys()\n",
    "    \n",
    "    def get_edges(self):\n",
    "        self.edges = []\n",
    "        for vertex in self.graph:\n",
    "            for sub_vertices in self.graph[vertex]:\n",
    "                self.edges.append((vertex,sub_vertices))\n",
    "        return self.edges"
   ]
  },
  {
   "cell_type": "code",
   "execution_count": 48,
   "metadata": {},
   "outputs": [
    {
     "data": {
      "text/plain": [
       "dict_keys([1, 2])"
      ]
     },
     "execution_count": 48,
     "metadata": {},
     "output_type": "execute_result"
    }
   ],
   "source": [
    "g = Graph()\n",
    "g.add_vertex(1)\n",
    "g.add_vertex(2)\n",
    "g.get_vertices()"
   ]
  },
  {
   "cell_type": "code",
   "execution_count": 53,
   "metadata": {},
   "outputs": [],
   "source": [
    "g.add_edge(2,3)\n"
   ]
  },
  {
   "cell_type": "code",
   "execution_count": 54,
   "metadata": {},
   "outputs": [
    {
     "data": {
      "text/plain": [
       "[(1, 2), (2, 1), (2, 3), (5, 8), (8, 5), (3, 2)]"
      ]
     },
     "execution_count": 54,
     "metadata": {},
     "output_type": "execute_result"
    }
   ],
   "source": [
    "g.get_edges()"
   ]
  },
  {
   "cell_type": "code",
   "execution_count": 8,
   "metadata": {},
   "outputs": [
    {
     "name": "stdout",
     "output_type": "stream",
     "text": [
      "H A D G B E C F "
     ]
    }
   ],
   "source": [
    "g.dfs('H')"
   ]
  },
  {
   "attachments": {},
   "cell_type": "markdown",
   "metadata": {},
   "source": [
    "## Directed Graph"
   ]
  },
  {
   "cell_type": "code",
   "execution_count": 9,
   "metadata": {},
   "outputs": [
    {
     "name": "stdout",
     "output_type": "stream",
     "text": [
      "H\n",
      "A\n",
      "B\n",
      "C\n",
      "D\n",
      "E\n",
      "F\n",
      "G\n"
     ]
    }
   ],
   "source": [
    "class directed_Graph:\n",
    "    \n",
    "    def __init__(self) -> None:\n",
    "        self.graph = {}\n",
    "        self.edges = []\n",
    "\n",
    "    def add_vertex(self,vertex):\n",
    "        if vertex not in self.graph:\n",
    "            self.graph[vertex] = []\n",
    "\n",
    "    def add_edge(self,source, destination):\n",
    "        if source not in self.graph:\n",
    "            self.add_vertex(source)\n",
    "        self.graph[source].append(destination)\n",
    "        \n",
    "\n",
    "    def get_vertices(self):\n",
    "        return self.graph.keys()\n",
    "    \n",
    "    def get_edges(self):\n",
    "        #self.edges = []\n",
    "        for vertex in self.graph:\n",
    "            for sub_vertices in self.graph[vertex]:\n",
    "                self.edges.append((vertex,sub_vertices))\n",
    "        return self.edges\n",
    "\n",
    "\n",
    "    def dfs(self,start_vertex):\n",
    "        self.visited = set()\n",
    "\n",
    "        def dfs_util(vertex):\n",
    "            self.visited.add(vertex)\n",
    "            print(vertex,end=' ')\n",
    "            \n",
    "            if vertex in self.graph:\n",
    "                for adj_vertex in self.graph[vertex]:\n",
    "                    if adj_vertex not in self.visited:\n",
    "                        dfs_util(adj_vertex)\n",
    "        dfs_util(start_vertex)\n",
    "  \n",
    "    \n",
    "    def bfs(self,start_vertex):                                                     #           H\n",
    "\n",
    "        self.visited = set()                                                        #      A    B   C\n",
    "        \n",
    "        from  collections import deque                                              #      D    E   F\n",
    "        q = deque()                                                                 #           F\n",
    "        self.visited.add(start_vertex)\n",
    "        q.append(start_vertex)\n",
    "        \n",
    "        while q:\n",
    "            cur_vertex = q.popleft()\n",
    "            print(cur_vertex)\n",
    "\n",
    "            if cur_vertex in self.graph:\n",
    "                for adj_vertex in self.graph[cur_vertex]:\n",
    "                    if adj_vertex not in self.visited:\n",
    "                        self.visited.add(adj_vertex)\n",
    "                        q.append(adj_vertex)\n",
    "\n",
    "g = directed_Graph()\n",
    "\n",
    "g.add_edge('H','A')\n",
    "g.add_edge('H','B')\n",
    "g.add_edge('H','C')\n",
    "g.add_edge('A','D')\n",
    "g.add_edge('B','E')\n",
    "g.add_edge('C','F')\n",
    "g.add_edge('D','G')\n",
    "        \n",
    "\n",
    "g.bfs('H')\n"
   ]
  },
  {
   "cell_type": "code",
   "execution_count": null,
   "metadata": {},
   "outputs": [],
   "source": []
  }
 ],
 "metadata": {
  "kernelspec": {
   "display_name": "Python 3",
   "language": "python",
   "name": "python3"
  },
  "language_info": {
   "codemirror_mode": {
    "name": "ipython",
    "version": 3
   },
   "file_extension": ".py",
   "mimetype": "text/x-python",
   "name": "python",
   "nbconvert_exporter": "python",
   "pygments_lexer": "ipython3",
   "version": "3.9.7"
  },
  "orig_nbformat": 4
 },
 "nbformat": 4,
 "nbformat_minor": 2
}
