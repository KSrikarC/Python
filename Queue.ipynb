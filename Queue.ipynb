{
 "cells": [
  {
   "attachments": {},
   "cell_type": "markdown",
   "metadata": {},
   "source": [
    "## Queue"
   ]
  },
  {
   "cell_type": "code",
   "execution_count": 13,
   "metadata": {},
   "outputs": [],
   "source": [
    "class Queue():\n",
    "\n",
    "    def __init__(self):\n",
    "        self.q = []\n",
    "\n",
    "    def enqueue(self,item):\n",
    "        self.q.append(item)\n",
    "\n",
    "    def dequeue(self,no_Of_Items=1):\n",
    "        counter = 0\n",
    "        if  not self.isEmpty() and counter < no_Of_Items:\n",
    "            self.q.pop(0)\n",
    "\n",
    "    def isEmpty(self):\n",
    "        return len(self.q) == 0\n",
    "\n",
    "    def __str__(self):\n",
    "        if self.isEmpty():\n",
    "            return \"Queue is Empty\"\n",
    "        out = 'start '\n",
    "        for _ in self.q:\n",
    "            out += str(_)+'->'\n",
    "        return out"
   ]
  },
  {
   "cell_type": "code",
   "execution_count": 16,
   "metadata": {},
   "outputs": [
    {
     "name": "stdout",
     "output_type": "stream",
     "text": [
      "Queue is Empty\n"
     ]
    }
   ],
   "source": [
    "q = Queue()\n",
    "q.enqueue(10)\n",
    "q.dequeue(10)\n",
    "q.dequeue()\n",
    "\n",
    "print(q)"
   ]
  },
  {
   "cell_type": "code",
   "execution_count": 17,
   "metadata": {},
   "outputs": [
    {
     "name": "stdout",
     "output_type": "stream",
     "text": [
      "start 500->\n",
      "start 500->501->\n",
      "start 500->501->502->\n",
      "start 500->501->502->503->\n",
      "start 500->501->502->503->504->\n",
      "start 500->501->502->503->504->505->\n",
      "start 500->501->502->503->504->505->506->\n",
      "start 500->501->502->503->504->505->506->507->\n",
      "start 500->501->502->503->504->505->506->507->508->\n",
      "start 500->501->502->503->504->505->506->507->508->509->\n"
     ]
    }
   ],
   "source": [
    "for _ in range(500,510):\n",
    "    q.enqueue(_)\n",
    "    print(q)    "
   ]
  },
  {
   "cell_type": "code",
   "execution_count": 18,
   "metadata": {},
   "outputs": [
    {
     "name": "stdout",
     "output_type": "stream",
     "text": [
      "start 501->502->503->504->505->506->507->508->509->\n",
      "start 502->503->504->505->506->507->508->509->\n",
      "start 503->504->505->506->507->508->509->\n",
      "start 504->505->506->507->508->509->\n",
      "start 505->506->507->508->509->\n"
     ]
    }
   ],
   "source": [
    "for _ in range(5):\n",
    "    q.dequeue()\n",
    "    print(q)"
   ]
  },
  {
   "cell_type": "code",
   "execution_count": null,
   "metadata": {},
   "outputs": [],
   "source": []
  }
 ],
 "metadata": {
  "kernelspec": {
   "display_name": "Python 3",
   "language": "python",
   "name": "python3"
  },
  "language_info": {
   "codemirror_mode": {
    "name": "ipython",
    "version": 3
   },
   "file_extension": ".py",
   "mimetype": "text/x-python",
   "name": "python",
   "nbconvert_exporter": "python",
   "pygments_lexer": "ipython3",
   "version": "3.9.7"
  },
  "orig_nbformat": 4
 },
 "nbformat": 4,
 "nbformat_minor": 2
}
