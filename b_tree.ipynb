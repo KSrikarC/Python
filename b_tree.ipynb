{
 "cells": [
  {
   "cell_type": "code",
   "execution_count": 1,
   "metadata": {},
   "outputs": [
    {
     "name": "stdout",
     "output_type": "stream",
     "text": [
      "    ->35\n",
      "        ->31\n",
      "->27\n",
      "        ->19\n",
      "    ->14\n",
      "        ->10\n"
     ]
    }
   ],
   "source": [
    "# Binary tree\n",
    "class Node:\n",
    "    def __init__(self,data) -> None:\n",
    "        self.data=data\n",
    "        self.leftChild=None\n",
    "        self.rightChild=None\n",
    "    \n",
    "    def insert(self,data):\n",
    "        if data <self.data:\n",
    "            if self.leftChild:\n",
    "                self.leftChild.insert(data)\n",
    "            else:\n",
    "                self.leftChild=Node(data)\n",
    "        else:\n",
    "            if self.rightChild:\n",
    "                self.rightChild.insert(data)\n",
    "            else:\n",
    "                self.rightChild = Node(data)\n",
    "    \n",
    "    def printTree(self,level=0):\n",
    "        if self.rightChild:\n",
    "            self.rightChild.printTree(level +1)\n",
    "        if self.data!=None:\n",
    "            print(' '* 4 * level +'->'+str(self.data))\n",
    "        if self.leftChild:\n",
    "            self.leftChild.printTree(level +1)    \n",
    "\n",
    "root = Node(27)\n",
    "root.insert(14)\n",
    "root.insert(35)\n",
    "root.insert(31)\n",
    "root.insert(10)\n",
    "root.insert(19)\n",
    "root.printTree()"
   ]
  }
 ],
 "metadata": {
  "kernelspec": {
   "display_name": "Python 3",
   "language": "python",
   "name": "python3"
  },
  "language_info": {
   "codemirror_mode": {
    "name": "ipython",
    "version": 3
   },
   "file_extension": ".py",
   "mimetype": "text/x-python",
   "name": "python",
   "nbconvert_exporter": "python",
   "pygments_lexer": "ipython3",
   "version": "3.9.7"
  },
  "orig_nbformat": 4
 },
 "nbformat": 4,
 "nbformat_minor": 2
}
