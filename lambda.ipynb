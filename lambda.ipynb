{
 "cells": [
  {
   "cell_type": "code",
   "execution_count": 3,
   "metadata": {},
   "outputs": [
    {
     "name": "stdout",
     "output_type": "stream",
     "text": [
      "Hello\n"
     ]
    }
   ],
   "source": [
    "pr = lambda x=input() : print(x)\n",
    "pr()"
   ]
  },
  {
   "cell_type": "code",
   "execution_count": 33,
   "metadata": {},
   "outputs": [
    {
     "name": "stdout",
     "output_type": "stream",
     "text": [
      "[2, 4]\n",
      "[1, 3, 5]\n"
     ]
    }
   ],
   "source": [
    "def isEven(x):\n",
    "    return x%2==0\n",
    "isOdd = lambda x : x%2 == 1\n",
    "x = [1,2,3,4,5]\n",
    "print(list(filter(isEven,x)))\n",
    "print(list(filter(isOdd,x)))"
   ]
  },
  {
   "cell_type": "code",
   "execution_count": 49,
   "metadata": {},
   "outputs": [
    {
     "data": {
      "text/plain": [
       "[[5, 2], [4, 3], [3, 4]]"
      ]
     },
     "execution_count": 49,
     "metadata": {},
     "output_type": "execute_result"
    }
   ],
   "source": [
    "def rule(lt):\n",
    "    keys=[]\n",
    "    for _ in lt:\n",
    "        keys.append(_[1])\n",
    "    return keys\n",
    "\n",
    "lt = [[5,2],[4,3],[3,4]]\n",
    "lt.sort(key=lambda x : x[1])\n",
    "lt"
   ]
  },
  {
   "cell_type": "code",
   "execution_count": 58,
   "metadata": {},
   "outputs": [
    {
     "name": "stdout",
     "output_type": "stream",
     "text": [
      "[1.0, 2.0, 3.0, 4.0, 5.0, 6.0, 7.0]\n",
      "['1', '2', '3', '4', '5', '6', '7']\n"
     ]
    },
    {
     "data": {
      "text/plain": [
       "[1, 4, 9, 16, 25, 36, 49]"
      ]
     },
     "execution_count": 58,
     "metadata": {},
     "output_type": "execute_result"
    }
   ],
   "source": [
    "num = [1,2,3,4,5,6,7]\n",
    "print(list(map(float,num)))\n",
    "print(list(map(str,num)))\n",
    "list(map(lambda x : pow(x,2),num))"
   ]
  },
  {
   "cell_type": "code",
   "execution_count": 61,
   "metadata": {},
   "outputs": [
    {
     "data": {
      "text/plain": [
       "[('Steve', 'Rogers'), ('Tony', 'Stark'), ('Peter', 'Parker')]"
      ]
     },
     "execution_count": 61,
     "metadata": {},
     "output_type": "execute_result"
    }
   ],
   "source": [
    "f_name = ['Steve','Tony','Peter']\n",
    "l_name = ['Rogers','Stark','Parker']\n",
    "list(zip(f_name,l_name))"
   ]
  },
  {
   "cell_type": "code",
   "execution_count": 68,
   "metadata": {},
   "outputs": [
    {
     "name": "stdout",
     "output_type": "stream",
     "text": [
      "Discounted price is 900.0\n",
      "Discounted price is 4000.0\n",
      "Discounted price is 7000.0\n"
     ]
    }
   ],
   "source": [
    "discounts = [10,20,30]\n",
    "prices = [1000,5000,10000]\n",
    "\n",
    "for _ in list(map(lambda x: f'Discounted price is {x[1] - (x[0] * x[1] / 100)}',zip(discounts,prices))):\n",
    "    print(_)\n",
    "    "
   ]
  },
  {
   "cell_type": "code",
   "execution_count": 7,
   "metadata": {},
   "outputs": [],
   "source": [
    "def power_function(power):\n",
    "    return lambda x : int(x ** power)\n",
    "\n",
    "square = power_function(2)  \n",
    "cube = power_function(3)\n",
    "sq_root = power_function((1/2))  "
   ]
  },
  {
   "cell_type": "code",
   "execution_count": 8,
   "metadata": {},
   "outputs": [
    {
     "data": {
      "text/plain": [
       "16"
      ]
     },
     "execution_count": 8,
     "metadata": {},
     "output_type": "execute_result"
    }
   ],
   "source": [
    "square(4)"
   ]
  },
  {
   "cell_type": "code",
   "execution_count": 9,
   "metadata": {},
   "outputs": [
    {
     "data": {
      "text/plain": [
       "64"
      ]
     },
     "execution_count": 9,
     "metadata": {},
     "output_type": "execute_result"
    }
   ],
   "source": [
    "cube(4)"
   ]
  },
  {
   "cell_type": "code",
   "execution_count": 10,
   "metadata": {},
   "outputs": [
    {
     "data": {
      "text/plain": [
       "2"
      ]
     },
     "execution_count": 10,
     "metadata": {},
     "output_type": "execute_result"
    }
   ],
   "source": [
    "sq_root(4)"
   ]
  },
  {
   "cell_type": "code",
   "execution_count": null,
   "metadata": {},
   "outputs": [],
   "source": []
  }
 ],
 "metadata": {
  "kernelspec": {
   "display_name": "Python 3",
   "language": "python",
   "name": "python3"
  },
  "language_info": {
   "codemirror_mode": {
    "name": "ipython",
    "version": 3
   },
   "file_extension": ".py",
   "mimetype": "text/x-python",
   "name": "python",
   "nbconvert_exporter": "python",
   "pygments_lexer": "ipython3",
   "version": "3.9.7"
  },
  "orig_nbformat": 4
 },
 "nbformat": 4,
 "nbformat_minor": 2
}
