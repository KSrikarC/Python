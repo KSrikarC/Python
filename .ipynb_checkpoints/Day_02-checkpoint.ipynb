{
 "cells": [
  {
   "cell_type": "code",
   "execution_count": 163,
   "id": "bb1b2829",
   "metadata": {},
   "outputs": [],
   "source": [
    "class Array():\n",
    "    def __init__(self,arraySize,arrayType):\n",
    "        self.arrayOfItems = list(map(arrayType, range(1,arraySize+1)))\n",
    "    \n",
    "    def __str__(self):\n",
    "        return f'The given elements are {self.arrayOfItems}'\n",
    "    \n",
    "    def __len__(self):\n",
    "        return len(self.arrayOfItems)\n",
    "    \n",
    "    def insert(self,value,position):\n",
    "        self.arrayOfItems.append(0)\n",
    "        for i in reversed(range(position,len(self.arrayOfItems)-1)):\n",
    "            self.arrayOfItems[i+1] = self.arrayOfItems[i]\n",
    "        self.arrayOfItems[position] = value\n",
    "        return self.arrayOfItems"
   ]
  },
  {
   "cell_type": "code",
   "execution_count": 164,
   "id": "5c1119c6",
   "metadata": {},
   "outputs": [
    {
     "name": "stdout",
     "output_type": "stream",
     "text": [
      "The given elements are [1, 2, 3, 4, 5, 6, 7, 8, 9, 10]\n",
      "10\n"
     ]
    }
   ],
   "source": [
    "x = Array(10,int)\n",
    "print(x)\n",
    "print(len(x))"
   ]
  },
  {
   "cell_type": "code",
   "execution_count": 172,
   "id": "345d77d1",
   "metadata": {},
   "outputs": [
    {
     "name": "stdout",
     "output_type": "stream",
     "text": [
      "The given elements are [8, 1, 8, 2, 3, 4, 8, 8, 8, 8, 8, 5, 6, 7, 8, 9, 10, 0]\n"
     ]
    },
    {
     "data": {
      "text/plain": [
       "18"
      ]
     },
     "execution_count": 172,
     "metadata": {},
     "output_type": "execute_result"
    }
   ],
   "source": [
    "x.insert(8,7)\n",
    "print(x)\n",
    "len(x)"
   ]
  },
  {
   "cell_type": "markdown",
   "id": "b58d961a",
   "metadata": {},
   "source": [
    "## Linked list"
   ]
  },
  {
   "cell_type": "code",
   "execution_count": 273,
   "id": "aef92b2f",
   "metadata": {},
   "outputs": [],
   "source": [
    "class Node():\n",
    "    def __init__(self,value):\n",
    "        self.value = value\n",
    "        self.next = None\n",
    "        \n",
    "        \n",
    "class Linked_List():   \n",
    "    \n",
    "    def __init__(self):\n",
    "        self.head = None\n",
    "        self.tail = None\n",
    "     \n",
    "    \n",
    "    def add_end(self,value):\n",
    "        new_node = Node(value)        \n",
    "        if self.head == None:\n",
    "            self.head = new_node\n",
    "            self.tail = new_node        \n",
    "        else:\n",
    "            self.tail.next = new_node\n",
    "            self.tail = new_node\n",
    "                \n",
    "    def __str__(self): \n",
    "        if self.head is None:\n",
    "            return 'Linked list is empty'            \n",
    "        \n",
    "        itr = self.head\n",
    "        res = ''\n",
    "        while itr:\n",
    "            res += str(itr.value) + '--> '\n",
    "            itr = itr.next\n",
    "        return res    \n",
    "    \n",
    "    \n",
    "    def add_end(self,value):\n",
    "        new_node = Node(value)        \n",
    "        if self.head == None:\n",
    "            self.head = new_node\n",
    "            self.tail = new_node        \n",
    "        else:\n",
    "            self.tail.next = new_node\n",
    "            self.tail = new_node\n",
    "        \n",
    "    \n",
    "    def delete(self,value):\n",
    "        if self.head is None:\n",
    "            print('Linked list is empty')\n",
    "            return\n",
    "        \n",
    "        elif self.head.value == value:\n",
    "            self.head = self.head.next\n",
    "            return\n",
    "        \n",
    "        itr = self.head\n",
    "        while(itr):\n",
    "            if itr.next.value == value:\n",
    "                itr.next = itr.next.next\n",
    "                break\n",
    "            itr = itr.next\n",
    "                \n",
    "    def add_at_begin(self,value):\n",
    "        new_node = Node(value)\n",
    "        if self.head is None:\n",
    "            self.head = new_node\n",
    "            self.tail = new_node\n",
    "        else:\n",
    "            new_node.next = self.head\n",
    "            self.head = new_node        \n",
    "        \n",
    "        \n",
    "    def remove_end(self):\n",
    "        if self.head.next is None:\n",
    "            self.head = None\n",
    "        itr = self.head\n",
    "        while itr:\n",
    "            if itr.next.next is None:\n",
    "                itr.next = None\n",
    "            itr = itr.next\n",
    "            \n",
    "    def remove_begin(self):\n",
    "        if self.head is None:\n",
    "            return 'Linked list is empty'    \n",
    "        \n",
    "        if self.head == self.tail:\n",
    "            self.head = None\n",
    "        \n",
    "        else:            \n",
    "            self.head = self.head.next        "
   ]
  },
  {
   "cell_type": "code",
   "execution_count": 274,
   "id": "bcdb780e",
   "metadata": {},
   "outputs": [],
   "source": [
    "ll = Linked_List()"
   ]
  },
  {
   "cell_type": "code",
   "execution_count": 275,
   "id": "f0330e79",
   "metadata": {},
   "outputs": [],
   "source": [
    "for i in range(10):\n",
    "     ll.add_end(i)"
   ]
  },
  {
   "cell_type": "code",
   "execution_count": 229,
   "id": "43953eb3",
   "metadata": {},
   "outputs": [
    {
     "name": "stdout",
     "output_type": "stream",
     "text": [
      "7\n",
      "3--> 4--> 5--> 6--> 8--> 9--> \n"
     ]
    }
   ],
   "source": [
    "ll.delete(int(input()))\n",
    "print(ll)"
   ]
  },
  {
   "cell_type": "code",
   "execution_count": 287,
   "id": "09354f8e",
   "metadata": {},
   "outputs": [
    {
     "name": "stdout",
     "output_type": "stream",
     "text": [
      "10--> \n"
     ]
    }
   ],
   "source": [
    "ll.add_at_begin(10)\n",
    "print(ll)"
   ]
  },
  {
   "cell_type": "code",
   "execution_count": 288,
   "id": "d11efd72",
   "metadata": {},
   "outputs": [
    {
     "name": "stdout",
     "output_type": "stream",
     "text": [
      "Linked list is empty\n"
     ]
    }
   ],
   "source": [
    "ll.remove_end()\n",
    "print(ll)"
   ]
  },
  {
   "cell_type": "code",
   "execution_count": 293,
   "id": "8f7c3a0e",
   "metadata": {},
   "outputs": [
    {
     "name": "stdout",
     "output_type": "stream",
     "text": [
      "Linked list is empty\n"
     ]
    }
   ],
   "source": [
    "ll.remove_begin()\n",
    "print(ll)"
   ]
  },
  {
   "cell_type": "code",
   "execution_count": 295,
   "id": "16a012d7",
   "metadata": {},
   "outputs": [],
   "source": [
    "for i in range(50):\n",
    "     ll.add_end(i)"
   ]
  },
  {
   "cell_type": "code",
   "execution_count": 302,
   "id": "19e085a1",
   "metadata": {},
   "outputs": [
    {
     "name": "stdout",
     "output_type": "stream",
     "text": [
      "0--> 1--> 2--> 3--> 4--> 5--> 6--> 7--> 8--> 9--> \n"
     ]
    }
   ],
   "source": [
    "for i in range(10):\n",
    "     ll.remove_end()\n",
    "print(ll)        "
   ]
  },
  {
   "cell_type": "markdown",
   "id": "3daec34b",
   "metadata": {},
   "source": [
    "## Stack"
   ]
  },
  {
   "cell_type": "code",
   "execution_count": null,
   "id": "cbbab629",
   "metadata": {},
   "outputs": [],
   "source": []
  }
 ],
 "metadata": {
  "kernelspec": {
   "display_name": "Python 3 (ipykernel)",
   "language": "python",
   "name": "python3"
  },
  "language_info": {
   "codemirror_mode": {
    "name": "ipython",
    "version": 3
   },
   "file_extension": ".py",
   "mimetype": "text/x-python",
   "name": "python",
   "nbconvert_exporter": "python",
   "pygments_lexer": "ipython3",
   "version": "3.9.13"
  }
 },
 "nbformat": 4,
 "nbformat_minor": 5
}
